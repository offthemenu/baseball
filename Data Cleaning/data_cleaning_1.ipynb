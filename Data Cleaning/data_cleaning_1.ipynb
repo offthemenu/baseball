{
 "cells": [
  {
   "cell_type": "code",
   "execution_count": 1,
   "metadata": {},
   "outputs": [],
   "source": [
    "import pandas as pd\n",
    "import matplotlib.pyplot as plt"
   ]
  },
  {
   "cell_type": "code",
   "execution_count": 101,
   "metadata": {},
   "outputs": [
    {
     "data": {
      "text/plain": [
       "'\\n'"
      ]
     },
     "execution_count": 101,
     "metadata": {},
     "output_type": "execute_result"
    }
   ],
   "source": [
    "drop_columns = ['pitch_type', 'spin_dir', 'spin_rate_deprecated', 'break_angle_deprecated', 'break_length_deprecated', 'tfs_deprecated', 'tfs_zulu_deprecated', 'umpire', \"game_date\", \"game_year\", \"des\", \"player_name\"]\n",
    "df_raw = pd.read_csv(\"/Users/ianchang/Library/Mobile Documents/com~apple~CloudDocs/1. Project/Baseball/baseball/raw-data-ignore/statcast_pitch_swing_data_20240402_20240630.csv\", low_memory=False).drop(columns=drop_columns)\n",
    "df_no_bunt = df_raw[~df_raw['description'].str.contains('bunt', case=False, na=False)].copy()\n",
    "\n",
    "num_cols = ['release_speed', 'release_pos_x', 'release_pos_z', 'plate_x', 'plate_z', 'hit_distance_sc', \n",
    "            'launch_speed', 'launch_angle', 'effective_speed', 'release_spin_rate']\n",
    "df_no_bunt[num_cols] = df_no_bunt[num_cols].apply(pd.to_numeric, errors='coerce')\n",
    "\n",
    "df_no_bunt = df_no_bunt[~df_no_bunt[\"description\"].str.contains(\"pitchout\", case=False, na=False)]\n",
    "df_no_bunt = df_no_bunt[~df_no_bunt[\"description\"].str.contains(\"hit_by_pitch\", case=False, na=False)]\n",
    "df_no_bunt = df_no_bunt[~df_no_bunt[\"events\"].str.contains(\"sac_bunt\", case=False, na=False)]\n",
    "# Filter out rows where 'swing_length' is NaN and 'description' is \"hit_into_play\" cuz it kindof makes no sense\n",
    "df_no_bunt = df_no_bunt[~((pd.isna(df_no_bunt['swing_length'])) & (df_no_bunt['description'] == \"hit_into_play\"))]\n",
    "\n",
    "hits = [\"single\", \"home_run\", \"double\", \"triple\"]\n",
    "\n",
    "for index, row in df_no_bunt.iterrows():\n",
    "    if row[\"events\"] in hits:\n",
    "        replacement = row[\"events\"]\n",
    "        df_no_bunt.at[index, \"description\"] = replacement \n",
    "    if row[\"description\"] == \"hit_into_play\":\n",
    "        replacement = \"hit_caught_out\"\n",
    "        df_no_bunt.at[index, \"description\"] = replacement\n",
    "\n",
    "df_no_bunt = df_no_bunt.drop(columns=[\"events\"])\n",
    "'''\n",
    "'''"
   ]
  },
  {
   "cell_type": "code",
   "execution_count": 102,
   "metadata": {},
   "outputs": [
    {
     "data": {
      "text/plain": [
       "array(['foul', 'called_strike', 'ball', 'foul_tip', 'swinging_strike',\n",
       "       'blocked_ball', 'swinging_strike_blocked', 'hit_caught_out'],\n",
       "      dtype=object)"
      ]
     },
     "execution_count": 102,
     "metadata": {},
     "output_type": "execute_result"
    }
   ],
   "source": [
    "df_no_bunt.description.unique()"
   ]
  },
  {
   "cell_type": "code",
   "execution_count": 103,
   "metadata": {},
   "outputs": [],
   "source": [
    "homeruns = df_no_bunt[df_no_bunt.description == \"home_run\"]\n",
    "singles = df_no_bunt[df_no_bunt.description == \"single\"]\n",
    "double = df_no_bunt[df_no_bunt.description == \"double\"]\n",
    "triple = df_no_bunt[df_no_bunt.description == \"triple\"]"
   ]
  },
  {
   "cell_type": "code",
   "execution_count": 104,
   "metadata": {},
   "outputs": [
    {
     "data": {
      "text/html": [
       "<div>\n",
       "<style scoped>\n",
       "    .dataframe tbody tr th:only-of-type {\n",
       "        vertical-align: middle;\n",
       "    }\n",
       "\n",
       "    .dataframe tbody tr th {\n",
       "        vertical-align: top;\n",
       "    }\n",
       "\n",
       "    .dataframe thead th {\n",
       "        text-align: right;\n",
       "    }\n",
       "</style>\n",
       "<table border=\"1\" class=\"dataframe\">\n",
       "  <thead>\n",
       "    <tr style=\"text-align: right;\">\n",
       "      <th></th>\n",
       "      <th>release_speed</th>\n",
       "      <th>release_pos_x</th>\n",
       "      <th>release_pos_z</th>\n",
       "      <th>batter</th>\n",
       "      <th>pitcher</th>\n",
       "      <th>description</th>\n",
       "      <th>zone</th>\n",
       "      <th>game_type</th>\n",
       "      <th>stand</th>\n",
       "      <th>p_throws</th>\n",
       "      <th>...</th>\n",
       "      <th>post_home_score</th>\n",
       "      <th>post_bat_score</th>\n",
       "      <th>post_fld_score</th>\n",
       "      <th>if_fielding_alignment</th>\n",
       "      <th>of_fielding_alignment</th>\n",
       "      <th>spin_axis</th>\n",
       "      <th>delta_home_win_exp</th>\n",
       "      <th>delta_run_exp</th>\n",
       "      <th>bat_speed</th>\n",
       "      <th>swing_length</th>\n",
       "    </tr>\n",
       "  </thead>\n",
       "  <tbody>\n",
       "  </tbody>\n",
       "</table>\n",
       "<p>0 rows × 81 columns</p>\n",
       "</div>"
      ],
      "text/plain": [
       "Empty DataFrame\n",
       "Columns: [release_speed, release_pos_x, release_pos_z, batter, pitcher, description, zone, game_type, stand, p_throws, home_team, away_team, type, hit_location, bb_type, balls, strikes, pfx_x, pfx_z, plate_x, plate_z, on_3b, on_2b, on_1b, outs_when_up, inning, inning_topbot, hc_x, hc_y, fielder_2, sv_id, vx0, vy0, vz0, ax, ay, az, sz_top, sz_bot, hit_distance_sc, launch_speed, launch_angle, effective_speed, release_spin_rate, release_extension, game_pk, pitcher_1, fielder_2_1, fielder_3, fielder_4, fielder_5, fielder_6, fielder_7, fielder_8, fielder_9, release_pos_y, estimated_ba_using_speedangle, estimated_woba_using_speedangle, woba_value, woba_denom, babip_value, iso_value, launch_speed_angle, at_bat_number, pitch_number, pitch_name, home_score, away_score, bat_score, fld_score, post_away_score, post_home_score, post_bat_score, post_fld_score, if_fielding_alignment, of_fielding_alignment, spin_axis, delta_home_win_exp, delta_run_exp, bat_speed, swing_length]\n",
       "Index: []\n",
       "\n",
       "[0 rows x 81 columns]"
      ]
     },
     "execution_count": 104,
     "metadata": {},
     "output_type": "execute_result"
    }
   ],
   "source": [
    "df_no_bunt[(df_no_bunt.description == \"hit_into_play\") & (pd.isna(df_no_bunt.swing_length))]"
   ]
  },
  {
   "cell_type": "code",
   "execution_count": null,
   "metadata": {},
   "outputs": [],
   "source": [
    "df_no_bunt.to_csv(\"/Users/ianchang/Library/Mobile Documents/com~apple~CloudDocs/1. Project/Baseball/baseball/Data Cleaning/cleaned_set_r1.csv\", index=False)"
   ]
  }
 ],
 "metadata": {
  "kernelspec": {
   "display_name": ".venv",
   "language": "python",
   "name": "python3"
  },
  "language_info": {
   "codemirror_mode": {
    "name": "ipython",
    "version": 3
   },
   "file_extension": ".py",
   "mimetype": "text/x-python",
   "name": "python",
   "nbconvert_exporter": "python",
   "pygments_lexer": "ipython3",
   "version": "3.12.3"
  }
 },
 "nbformat": 4,
 "nbformat_minor": 2
}
